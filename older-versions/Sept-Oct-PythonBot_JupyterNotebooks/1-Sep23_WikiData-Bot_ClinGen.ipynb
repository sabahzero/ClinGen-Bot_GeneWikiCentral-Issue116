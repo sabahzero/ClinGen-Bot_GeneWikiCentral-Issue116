{
  "nbformat": 4,
  "nbformat_minor": 0,
  "metadata": {
    "colab": {
      "name": "ClinGen-Bot_Trial2.ipynb",
      "provenance": []
    },
    "kernelspec": {
      "name": "python3",
      "display_name": "Python 3"
    }
  },
  "cells": [
    {
      "cell_type": "markdown",
      "metadata": {
        "id": "g858AwnXuf7t",
        "colab_type": "text"
      },
      "source": [
        "Using: https://www.wikidata.org/wiki/Q18051234 as example item"
      ]
    },
    {
      "cell_type": "code",
      "metadata": {
        "id": "mEyZJhozpqRl",
        "colab_type": "code",
        "outputId": "f0a00099-bae0-4c84-8bf9-61e80107ae58",
        "colab": {
          "base_uri": "https://localhost:8080/",
          "height": 130
        }
      },
      "source": [
        "from wikidataintegrator import wdi_core, wdi_login\n",
        "\n",
        "print(\"Logging in Sulhasan\") # Prints out name while logging in\n",
        "\n",
        "# if else loop that asks for username nad password for login\n",
        "if \"WDUSER\" in os.environ and \"WDPASS\" in os.environ:\n",
        "  WDUSER = wdi_login.WDLogin['Sulhasan']\n",
        "  WDPASS = wdi_login.WDLogin['WDPASS']\n",
        "  else:\n",
        "    raise ValueError(\"Sulhasan and WDPASS must be specified in local.py or as environment variables\")\n",
        "\n",
        "# Still confused on how to go about finding the P# ?    \n",
        "gene_association = wdi_core.WDString(value='<some_gene_assocation>', prop_nr='Pxx')\n",
        "\n",
        "data = [gene_association]\n",
        "\n",
        "wd_item = wdi_core.WDItemEngine(data=[gene_association])\n",
        "\n",
        "statement = wdi_core.WDItemID(value=\"Q1543446\", prop_nr=\"P2293\")\n",
        "\n",
        "# for loop\n",
        "for gene_assocation, ClinGen in raw_data.items():\n",
        "        # data type object\n",
        "        gene_association = wdi_core.WDString(value='<some_gene_assocation>', prop_nr='Q64403342')\n",
        "        ClinGen_id = wdi_core.WDString(value='ClinGen_id_string', prop_nr='Q64403342')\n",
        "        data = [gene_association, ClinGen_id] # data list of objects\n",
        "        wd_item = wdi_core.WDItemEngine(data=data)\n",
        "        wd_item.write(login_instance)"
      ],
      "execution_count": 0,
      "outputs": [
        {
          "output_type": "error",
          "ename": "SyntaxError",
          "evalue": "ignored",
          "traceback": [
            "\u001b[0;36m  File \u001b[0;32m\"<ipython-input-1-60a171a7ee7d>\"\u001b[0;36m, line \u001b[0;32m9\u001b[0m\n\u001b[0;31m    else:\u001b[0m\n\u001b[0m       ^\u001b[0m\n\u001b[0;31mSyntaxError\u001b[0m\u001b[0;31m:\u001b[0m invalid syntax\n"
          ]
        }
      ]
    },
    {
      "cell_type": "code",
      "metadata": {
        "id": "v5o3gR2Au43M",
        "colab_type": "code",
        "colab": {}
      },
      "source": [
        ""
      ],
      "execution_count": 0,
      "outputs": []
    }
  ]
}